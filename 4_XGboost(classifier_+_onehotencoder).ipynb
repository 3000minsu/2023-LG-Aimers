{
  "nbformat": 4,
  "nbformat_minor": 0,
  "metadata": {
    "colab": {
      "provenance": [],
      "authorship_tag": "ABX9TyPGmPKjQMWP8uis/Z0XEaAq",
      "include_colab_link": true
    },
    "kernelspec": {
      "name": "python3",
      "display_name": "Python 3"
    },
    "language_info": {
      "name": "python"
    }
  },
  "cells": [
    {
      "cell_type": "markdown",
      "metadata": {
        "id": "view-in-github",
        "colab_type": "text"
      },
      "source": [
        "<a href=\"https://colab.research.google.com/github/3000minsu/2023-LG-Aimers/blob/main/4_XGboost(classifier_%2B_onehotencoder).ipynb\" target=\"_parent\"><img src=\"https://colab.research.google.com/assets/colab-badge.svg\" alt=\"Open In Colab\"/></a>"
      ]
    },
    {
      "cell_type": "code",
      "execution_count": null,
      "metadata": {
        "id": "at9da-1QkF0o"
      },
      "outputs": [],
      "source": [
        "import pandas as pd\n",
        "import random\n",
        "import os\n",
        "import numpy as np\n",
        "\n",
        "from sklearn.preprocessing import LabelEncoder\n",
        "from xgboost import XGBClassifier\n",
        "from xgboost import XGBRegressor"
      ]
    },
    {
      "cell_type": "code",
      "source": [
        "def seed_everything(seed):\n",
        "    random.seed(seed)\n",
        "    os.environ['PYTHONHASHSEED'] = str(seed)\n",
        "    np.random.seed(seed)\n",
        "seed_everything(37) # Seed 고정"
      ],
      "metadata": {
        "id": "N7YJgiThYPrL"
      },
      "execution_count": null,
      "outputs": []
    },
    {
      "cell_type": "code",
      "source": [
        "from google.colab import drive\n",
        "drive.mount('/content/drive')\n",
        "\n",
        "train_df = pd.read_csv('/content/drive/MyDrive/train.csv')\n",
        "test_df = pd.read_csv('/content/drive/MyDrive/test.csv')"
      ],
      "metadata": {
        "colab": {
          "base_uri": "https://localhost:8080/"
        },
        "id": "2uLXfctgYQQH",
        "outputId": "06bd997f-80d8-403b-8c55-2d24ff1e350b"
      },
      "execution_count": null,
      "outputs": [
        {
          "output_type": "stream",
          "name": "stdout",
          "text": [
            "Drive already mounted at /content/drive; to attempt to forcibly remount, call drive.mount(\"/content/drive\", force_remount=True).\n"
          ]
        }
      ]
    },
    {
      "cell_type": "code",
      "source": [
        "train = train_df.drop(columns=['PRODUCT_ID', 'TIMESTAMP', 'Y_Class', 'Y_Quality'])\n",
        "train_y = train_df['Y_Class']\n",
        "train_y_quality = train_df['Y_Quality']\n",
        "test = test_df.drop(columns=['PRODUCT_ID', 'TIMESTAMP'])"
      ],
      "metadata": {
        "id": "M9xn9my_YTaG"
      },
      "execution_count": null,
      "outputs": []
    },
    {
      "cell_type": "code",
      "source": [
        "over = train_df[train_df['Y_Class'] == 2]['Y_Quality']\n",
        "normal = train_df[train_df['Y_Class'] == 1]['Y_Quality']\n",
        "under = train_df[train_df['Y_Class'] == 0]['Y_Quality']\n"
      ],
      "metadata": {
        "id": "Pl_5LpLtgrjs"
      },
      "execution_count": null,
      "outputs": []
    },
    {
      "cell_type": "code",
      "source": [
        "from sklearn.preprocessing import OneHotEncoder\n",
        "\n",
        "#LINE one-hot-encoding\n",
        "ohe_line = OneHotEncoder(sparse=False)\n",
        "# fit_transform은 train에만 사용하고 test에는 학습된 인코더에 fit만 해야한다\n",
        "train_line = ohe_line.fit_transform(train[['LINE']])\n",
        "train_line =pd.DataFrame(train_line, columns=['line_' + col for col in ohe_line.categories_[0]])\n",
        "train = pd.concat((train.drop(columns=['LINE']), train_line), axis=1)\n",
        "\n",
        "test_line = ohe_line.transform(test[['LINE']])\n",
        "test_line = pd.DataFrame(test_line, columns=['line_' + col for col in ohe_line.categories_[0]])\n",
        "test = pd.concat((test.drop(columns=['LINE']), test_line), axis=1)\n",
        "\n"
      ],
      "metadata": {
        "id": "zrTk38J4NNjJ"
      },
      "execution_count": null,
      "outputs": []
    },
    {
      "cell_type": "code",
      "source": [
        "ohe_pc = OneHotEncoder(sparse=False)\n",
        "# fit_transform은 train에만 사용하고 test에는 학습된 인코더에 fit만 해야한다\n",
        "train_pc = ohe_pc.fit_transform(train[['PRODUCT_CODE']])\n",
        "train_pc =pd.DataFrame(train_pc, columns=['pc_' + col for col in ohe_pc.categories_[0]])\n",
        "train = pd.concat((train.drop(columns=['PRODUCT_CODE']), train_pc), axis=1)\n",
        "\n",
        "test_pc = ohe_pc.transform(test[['PRODUCT_CODE']])\n",
        "test_pc = pd.DataFrame(test_pc, columns=['pc_' + col for col in ohe_pc.categories_[0]])\n",
        "test = pd.concat((test.drop(columns=['PRODUCT_CODE']), test_pc), axis=1)"
      ],
      "metadata": {
        "id": "vEMVxBeIOo2j"
      },
      "execution_count": null,
      "outputs": []
    },
    {
      "cell_type": "code",
      "source": [
        "#그래서 하나의 세트에서 모두 결측치인 열은 두 세트에서 모두 삭제 \n",
        "#data leakage 인가?\n",
        "\n",
        "invalid=[]\n",
        "for col in train.columns:\n",
        "  if(train[col].isnull().all()):\n",
        "    invalid+=[col]\n",
        "\n",
        "train = train.drop(columns=invalid)\n",
        "test = test.drop(columns=invalid)"
      ],
      "metadata": {
        "id": "38bHJMfGljk4"
      },
      "execution_count": null,
      "outputs": []
    },
    {
      "cell_type": "code",
      "execution_count": null,
      "metadata": {
        "id": "c6ca77bc-154c-4cb3-9251-3fe45d671416",
        "outputId": "bd4059a8-e501-4ef7-de2d-a83ac985b947",
        "colab": {
          "base_uri": "https://localhost:8080/"
        }
      },
      "outputs": [
        {
          "output_type": "stream",
          "name": "stdout",
          "text": [
            "Done.\n"
          ]
        }
      ],
      "source": [
        "RF =  XGBRegressor(objective='reg:squarederror')\n",
        "RF.fit(train, train_y_quality)\n",
        "\n",
        "print('Done.')"
      ]
    },
    {
      "cell_type": "code",
      "source": [
        "from sklearn.neighbors import KNeighborsClassifier\n",
        "kn = KNeighborsClassifier(n_neighbors=5)\n",
        "train_y_quality = train_y_quality.values.reshape(-1,1)\n",
        "kn.fit(train_y_quality, train_y)"
      ],
      "metadata": {
        "colab": {
          "base_uri": "https://localhost:8080/"
        },
        "id": "AutS2A6_Pr16",
        "outputId": "6e455867-75f3-45f6-e728-ce99937201df"
      },
      "execution_count": null,
      "outputs": [
        {
          "output_type": "execute_result",
          "data": {
            "text/plain": [
              "KNeighborsClassifier()"
            ]
          },
          "metadata": {},
          "execution_count": 36
        }
      ]
    },
    {
      "cell_type": "code",
      "execution_count": null,
      "metadata": {
        "id": "33b68656-3d7d-4221-b508-24d0d7622179",
        "outputId": "35e145a3-5546-4ebd-fef6-a42ceb6495b2",
        "colab": {
          "base_uri": "https://localhost:8080/"
        }
      },
      "outputs": [
        {
          "output_type": "stream",
          "name": "stdout",
          "text": [
            "Done.\n"
          ]
        }
      ],
      "source": [
        "real_preds =[]\n",
        "preds = RF.predict(test)\n",
        "for i in range(len(preds)):\n",
        "  if normal.min() < preds[i] < normal.max():\n",
        "        preds[i]=1\n",
        "  elif preds[i] <= under.max():\n",
        "        preds[i]=0\n",
        "  elif over.min() <= preds[i]:\n",
        "       preds[i]=2\n",
        "  else:\n",
        "      temp=kn.predict([[preds[i]]])[0]\n",
        "      preds[i]=temp\n",
        "     \n",
        "print('Done.')"
      ]
    },
    {
      "cell_type": "code",
      "execution_count": null,
      "metadata": {
        "id": "20c5e156-d7c4-400f-b552-0bb86ebfd3e3"
      },
      "outputs": [],
      "source": [
        "submit = pd.read_csv('/content/drive/MyDrive/sample_submission.csv')"
      ]
    },
    {
      "cell_type": "code",
      "execution_count": null,
      "metadata": {
        "id": "5b869ab6-6852-45a1-bc75-39dee40b583f"
      },
      "outputs": [],
      "source": [
        "submit['Y_Class'] = preds"
      ]
    },
    {
      "cell_type": "code",
      "execution_count": null,
      "metadata": {
        "tags": [],
        "id": "026b00cd-5680-4bf2-b7f8-0bea6ae8299e"
      },
      "outputs": [],
      "source": [
        "submit.to_csv('./baseline_submission.csv', index=False)"
      ]
    }
  ]
}