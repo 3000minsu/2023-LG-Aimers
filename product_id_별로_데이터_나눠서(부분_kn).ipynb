{
  "nbformat": 4,
  "nbformat_minor": 0,
  "metadata": {
    "colab": {
      "provenance": [],
      "authorship_tag": "ABX9TyO4wbHF0MNzwarCfICvIKAm",
      "include_colab_link": true
    },
    "kernelspec": {
      "name": "python3",
      "display_name": "Python 3"
    },
    "language_info": {
      "name": "python"
    }
  },
  "cells": [
    {
      "cell_type": "markdown",
      "metadata": {
        "id": "view-in-github",
        "colab_type": "text"
      },
      "source": [
        "<a href=\"https://colab.research.google.com/github/3000minsu/2023-LG-Aimers/blob/main/product_id_%EB%B3%84%EB%A1%9C_%EB%8D%B0%EC%9D%B4%ED%84%B0_%EB%82%98%EB%88%A0%EC%84%9C(%EB%B6%80%EB%B6%84_kn).ipynb\" target=\"_parent\"><img src=\"https://colab.research.google.com/assets/colab-badge.svg\" alt=\"Open In Colab\"/></a>"
      ]
    },
    {
      "cell_type": "code",
      "execution_count": null,
      "metadata": {
        "id": "at9da-1QkF0o"
      },
      "outputs": [],
      "source": [
        "import pandas as pd\n",
        "import random\n",
        "import os\n",
        "import numpy as np\n",
        "\n",
        "from sklearn.preprocessing import LabelEncoder\n",
        "from xgboost import XGBClassifier\n",
        "from xgboost import XGBRegressor"
      ]
    },
    {
      "cell_type": "code",
      "source": [
        "def seed_everything(seed):\n",
        "    random.seed(seed)\n",
        "    os.environ['PYTHONHASHSEED'] = str(seed)\n",
        "    np.random.seed(seed)\n",
        "seed_everything(37) # Seed 고정"
      ],
      "metadata": {
        "id": "N7YJgiThYPrL"
      },
      "execution_count": null,
      "outputs": []
    },
    {
      "cell_type": "code",
      "source": [
        "from google.colab import drive\n",
        "drive.mount('/content/drive')\n",
        "\n",
        "train_df = pd.read_csv('/content/drive/MyDrive/train.csv')\n",
        "test_df = pd.read_csv('/content/drive/MyDrive/test.csv')\n",
        "test = test_df.drop(columns=['PRODUCT_ID', 'TIMESTAMP'])"
      ],
      "metadata": {
        "colab": {
          "base_uri": "https://localhost:8080/"
        },
        "id": "2uLXfctgYQQH",
        "outputId": "41dafc23-d4a4-4cbb-dec4-733096f5878e"
      },
      "execution_count": null,
      "outputs": [
        {
          "output_type": "stream",
          "name": "stdout",
          "text": [
            "Mounted at /content/drive\n"
          ]
        }
      ]
    },
    {
      "cell_type": "code",
      "source": [
        "qual_col = ['LINE']\n",
        "\n",
        "for i in qual_col:\n",
        "    le = LabelEncoder()\n",
        "    le = le.fit(train_df[i])\n",
        "    train_df[i] = le.transform(train_df[i])\n",
        "    \n",
        "    for label in np.unique(test_df[i]): \n",
        "        if label not in le.classes_: \n",
        "            le.classes_ = np.append(le.classes_, label)\n",
        "    test[i] = le.transform(test[i]) \n",
        "    \n",
        "print('Done.')\n"
      ],
      "metadata": {
        "colab": {
          "base_uri": "https://localhost:8080/"
        },
        "id": "1_h2mSDmYgTo",
        "outputId": "265fed17-d496-4e83-b02c-921c210c9faa"
      },
      "execution_count": null,
      "outputs": [
        {
          "output_type": "stream",
          "name": "stdout",
          "text": [
            "Done.\n"
          ]
        }
      ]
    },
    {
      "cell_type": "code",
      "source": [
        "\n",
        "train_a = train_df[train_df['PRODUCT_CODE']=='A_31']\n",
        "train_a_y = train_a['Y_Class']\n",
        "train_a_quality = train_a['Y_Quality']\n",
        "train_a_x = train_a.drop(columns=['PRODUCT_ID', 'TIMESTAMP', 'Y_Class', 'Y_Quality', 'PRODUCT_CODE'])\n",
        "\n",
        "train_to = train_df[(train_df['PRODUCT_CODE']=='T_31') | (train_df['PRODUCT_CODE']=='O_31')]\n",
        "train_to_y = train_to['Y_Class']\n",
        "train_to_quality = train_to['Y_Quality']\n",
        "train_to_x = train_to.drop(columns=['PRODUCT_ID', 'TIMESTAMP', 'Y_Class', 'Y_Quality', 'PRODUCT_CODE'])\n",
        "\n",
        "#test_df = test_df.drop(columns=['PRODUCT_ID', 'TIMESTAMP'])\n",
        "#test_a = test_df[test_df['PRODUCT_CODE']=='A_31']\n",
        "#test_to = test_df[(train_df['PRODUCT_CODE']=='T_31') | (train_df['PRODUCT_CODE']=='O_31')]\n",
        "\n",
        "print(train_to_x.shape)\n",
        "print(train_a_x.shape)"
      ],
      "metadata": {
        "id": "M9xn9my_YTaG",
        "colab": {
          "base_uri": "https://localhost:8080/"
        },
        "outputId": "ed002570-2b47-4d68-a863-e6c7407568c1"
      },
      "execution_count": null,
      "outputs": [
        {
          "output_type": "stream",
          "name": "stdout",
          "text": [
            "(349, 2876)\n",
            "(249, 2876)\n"
          ]
        }
      ]
    },
    {
      "cell_type": "code",
      "source": [
        "#그래서 하나의 세트에서 모두 결측치인 열은 두 세트에서 모두 삭제 \n",
        "invalid_a=[]\n",
        "invalid_to=[]\n",
        "ori=['Index', 'LINE', 'PRODUCT_CODE']\n",
        "for col in train_a_x.columns:\n",
        "  if(col!='LINE'):\n",
        "    ori+=[col]\n",
        "  if(train_a_x[col].isnull().all()):\n",
        "    invalid_a += [col]\n",
        "for col in train_to_x.columns:\n",
        "  if(train_to_x[col].isnull().all()):\n",
        "    invalid_to += [col]\n",
        "\n",
        "train_a_x = train_a_x.drop(columns=invalid_a)\n",
        "train_to_x = train_to_x.drop(columns=invalid_to)\n",
        "#test = test.drop(columns=invalid_a)\n",
        "print(train_a_x.shape)\n",
        "print(train_to_x.shape)\n",
        "#print(test.shape)\n",
        "\n"
      ],
      "metadata": {
        "colab": {
          "base_uri": "https://localhost:8080/"
        },
        "id": "38bHJMfGljk4",
        "outputId": "dd13c0a8-62af-419b-8f55-fd14a8c05f83"
      },
      "execution_count": null,
      "outputs": [
        {
          "output_type": "stream",
          "name": "stdout",
          "text": [
            "(249, 2117)\n",
            "(349, 678)\n"
          ]
        }
      ]
    },
    {
      "cell_type": "code",
      "execution_count": null,
      "metadata": {
        "id": "c6ca77bc-154c-4cb3-9251-3fe45d671416",
        "outputId": "00411fc1-c529-4d47-d208-e02cd89b3b3f",
        "colab": {
          "base_uri": "https://localhost:8080/"
        }
      },
      "outputs": [
        {
          "output_type": "stream",
          "name": "stdout",
          "text": [
            "Done.\n"
          ]
        }
      ],
      "source": [
        "RF_a =  XGBRegressor(objective='reg:squarederror')\n",
        "RF_a.fit(train_a_x, train_a_quality)\n",
        "\n",
        "RF_to =  XGBRegressor(objective='reg:squarederror')\n",
        "RF_to.fit(train_to_x, train_to_quality)\n",
        "\n",
        "print('Done.')"
      ]
    },
    {
      "cell_type": "code",
      "source": [
        "over_a = train_a[train_a['Y_Class'] == 2]['Y_Quality']\n",
        "normal_a = train_a[train_a['Y_Class'] == 1]['Y_Quality']\n",
        "under_a = train_a[train_a['Y_Class'] == 0]['Y_Quality']\n",
        "\n",
        "over_to = train_to[train_to['Y_Class'] == 2]['Y_Quality']\n",
        "normal_to = train_to[train_to['Y_Class'] == 1]['Y_Quality']\n",
        "under_to = train_to[train_to['Y_Class'] == 0]['Y_Quality']\n",
        "\n",
        "from sklearn.neighbors import KNeighborsClassifier\n",
        "kn_a = KNeighborsClassifier(n_neighbors=5)\n",
        "train_a_quality = train_a_quality.values.reshape(-1,1)\n",
        "kn_a.fit(train_a_quality, train_a_y)\n",
        "\n",
        "kn_to = KNeighborsClassifier(n_neighbors=5)\n",
        "train_to_quality = train_to_quality.values.reshape(-1,1)\n",
        "kn_to.fit(train_to_quality, train_to_y)"
      ],
      "metadata": {
        "colab": {
          "base_uri": "https://localhost:8080/"
        },
        "id": "XMbayl-0ZslE",
        "outputId": "4c1fc5b4-e382-4d10-cf56-477dcd5339d1"
      },
      "execution_count": null,
      "outputs": [
        {
          "output_type": "execute_result",
          "data": {
            "text/plain": [
              "KNeighborsClassifier()"
            ]
          },
          "metadata": {},
          "execution_count": 8
        }
      ]
    },
    {
      "cell_type": "code",
      "source": [
        "\n",
        "\n",
        "\n",
        "def classify_a(y_quality):\n",
        "    if normal_a.min() <= y_quality <= normal_a.max():\n",
        "        return 1\n",
        "    elif y_quality <= under_a.max():\n",
        "        return 0\n",
        "    elif over_a.min() <= y_quality:\n",
        "        return 2\n",
        "    else:\n",
        "        #return -1\n",
        "        # 커트라인 확정이 안되는 경우\n",
        "        temp=kn_a.predict([y_quality])[0]\n",
        "        return temp\n",
        "\n",
        "def classify_to(y_quality): \n",
        "    if normal_to.min() <= y_quality <= normal_to.max():\n",
        "        return 1\n",
        "    elif y_quality <= under_to.max():\n",
        "        return 0\n",
        "    elif over_to.min() <= y_quality:\n",
        "        return 2\n",
        "    else:\n",
        "        #return -1\n",
        "        # 커트라인 확정이 안되는 경우\n",
        "        temp= kn_to.predict([y_quality])[0]  \n",
        "        return temp    "
      ],
      "metadata": {
        "id": "uo8dm3MrUhda"
      },
      "execution_count": null,
      "outputs": []
    },
    {
      "cell_type": "code",
      "execution_count": null,
      "metadata": {
        "id": "33b68656-3d7d-4221-b508-24d0d7622179",
        "outputId": "a127196e-bce8-4e32-e242-bfe76d7433d1",
        "colab": {
          "base_uri": "https://localhost:8080/"
        }
      },
      "outputs": [
        {
          "output_type": "stream",
          "name": "stdout",
          "text": [
            "Done.\n"
          ]
        }
      ],
      "source": [
        "preds=[]\n",
        "for row in test.itertuples():\n",
        "  tmp = pd.DataFrame([row], columns=ori)\n",
        "  if(tmp.loc[0, 'PRODUCT_CODE']=='A_31'):\n",
        "    tmp = tmp.drop(columns=invalid_a)\n",
        "    tmp = tmp.drop(columns='PRODUCT_CODE')\n",
        "    tmp = tmp.drop(columns='Index')\n",
        "    mid = RF_a.predict(tmp)\n",
        "    result = classify_a(mid)\n",
        "  else:\n",
        "    tmp = tmp.drop(columns=invalid_to)\n",
        "    tmp = tmp.drop(columns='PRODUCT_CODE')\n",
        "    tmp = tmp.drop(columns='Index')\n",
        "    mid = RF_to.predict(tmp)\n",
        "    result = classify_to(mid)\n",
        "  preds+=[result]\n",
        "\n",
        "\n",
        "#preds = RF.predict(test_a)\n",
        "print('Done.')\n",
        "\n"
      ]
    },
    {
      "cell_type": "code",
      "execution_count": null,
      "metadata": {
        "id": "20c5e156-d7c4-400f-b552-0bb86ebfd3e3"
      },
      "outputs": [],
      "source": [
        "submit = pd.read_csv('/content/drive/MyDrive/sample_submission.csv')"
      ]
    },
    {
      "cell_type": "code",
      "execution_count": null,
      "metadata": {
        "id": "5b869ab6-6852-45a1-bc75-39dee40b583f"
      },
      "outputs": [],
      "source": [
        "submit['Y_Class'] = preds"
      ]
    },
    {
      "cell_type": "code",
      "execution_count": null,
      "metadata": {
        "tags": [],
        "id": "026b00cd-5680-4bf2-b7f8-0bea6ae8299e"
      },
      "outputs": [],
      "source": [
        "submit.to_csv('./baseline_submission.csv', index=False)"
      ]
    }
  ]
}