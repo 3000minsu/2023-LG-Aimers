{
  "nbformat": 4,
  "nbformat_minor": 0,
  "metadata": {
    "colab": {
      "provenance": [],
      "machine_shape": "hm",
      "authorship_tag": "ABX9TyOB5/xdpf0P2z5QnfhueXKg",
      "include_colab_link": true
    },
    "kernelspec": {
      "name": "python3",
      "display_name": "Python 3"
    },
    "language_info": {
      "name": "python"
    },
    "gpuClass": "premium"
  },
  "cells": [
    {
      "cell_type": "markdown",
      "metadata": {
        "id": "view-in-github",
        "colab_type": "text"
      },
      "source": [
        "<a href=\"https://colab.research.google.com/github/3000minsu/2023-LG-Aimers/blob/main/3_MICE.ipynb\" target=\"_parent\"><img src=\"https://colab.research.google.com/assets/colab-badge.svg\" alt=\"Open In Colab\"/></a>"
      ]
    },
    {
      "cell_type": "code",
      "execution_count": null,
      "metadata": {
        "id": "at9da-1QkF0o"
      },
      "outputs": [],
      "source": [
        "import pandas as pd\n",
        "import random\n",
        "import os\n",
        "import numpy as np\n",
        "\n",
        "from sklearn.preprocessing import LabelEncoder\n",
        "from sklearn.ensemble import RandomForestClassifier"
      ]
    },
    {
      "cell_type": "code",
      "source": [
        "def seed_everything(seed):\n",
        "    random.seed(seed)\n",
        "    os.environ['PYTHONHASHSEED'] = str(seed)\n",
        "    np.random.seed(seed)\n",
        "seed_everything(37) # Seed 고정"
      ],
      "metadata": {
        "id": "N7YJgiThYPrL"
      },
      "execution_count": null,
      "outputs": []
    },
    {
      "cell_type": "code",
      "source": [
        "from google.colab import drive\n",
        "drive.mount('/content/drive')\n",
        "\n",
        "train_df = pd.read_csv('/content/drive/MyDrive/train.csv')\n",
        "test_df = pd.read_csv('/content/drive/MyDrive/test.csv')"
      ],
      "metadata": {
        "colab": {
          "base_uri": "https://localhost:8080/"
        },
        "id": "2uLXfctgYQQH",
        "outputId": "56b31845-75ff-47fc-a387-fb13a2cfe576"
      },
      "execution_count": null,
      "outputs": [
        {
          "output_type": "stream",
          "name": "stdout",
          "text": [
            "Mounted at /content/drive\n"
          ]
        }
      ]
    },
    {
      "cell_type": "code",
      "source": [
        "train = train_df.drop(columns=['PRODUCT_ID', 'TIMESTAMP', 'Y_Class', 'Y_Quality'])\n",
        "train_y = train_df['Y_Class']\n",
        "\n",
        "test = test_df.drop(columns=['PRODUCT_ID', 'TIMESTAMP'])"
      ],
      "metadata": {
        "id": "M9xn9my_YTaG"
      },
      "execution_count": null,
      "outputs": []
    },
    {
      "cell_type": "code",
      "source": [
        "qual_col = ['LINE', 'PRODUCT_CODE']\n",
        "\n",
        "for i in qual_col:\n",
        "    le = LabelEncoder()\n",
        "    le = le.fit(train[i])\n",
        "    train[i] = le.transform(train[i])\n",
        "    \n",
        "    for label in np.unique(test[i]): \n",
        "        if label not in le.classes_: \n",
        "            le.classes_ = np.append(le.classes_, label)\n",
        "    test[i] = le.transform(test[i]) \n",
        "print('Done.')\n",
        "print(test.shape)\n",
        "print(train.shape)\n"
      ],
      "metadata": {
        "colab": {
          "base_uri": "https://localhost:8080/"
        },
        "id": "1_h2mSDmYgTo",
        "outputId": "e734b5e6-e139-4cb4-97fd-ce9a8e00a5aa"
      },
      "execution_count": null,
      "outputs": [
        {
          "output_type": "stream",
          "name": "stdout",
          "text": [
            "Done.\n",
            "(310, 2877)\n",
            "(598, 2877)\n"
          ]
        }
      ]
    },
    {
      "cell_type": "code",
      "source": [
        "#그래서 하나의 세트에서 모두 결측치인 열은 두 세트에서 모두 삭제 \n",
        "#data leakage 인가?\n",
        "\n",
        "invalid=[]\n",
        "for col in train.columns:\n",
        "  if(train[col].isnull().all()):\n",
        "    invalid+=[col]\n",
        "\n",
        "train = pd.concat([train,test], ignore_index=True) #인덱스 초기화\n",
        "train = train.drop(columns=invalid)\n",
        "tmp=train\n",
        "train = tmp.iloc[:598,:]\n",
        "test = tmp.iloc[598:,:]\n",
        "\n",
        "#진또배기 열들 리스트 저장장\n",
        "column_set=[]\n",
        "for col in train.columns:\n",
        "  column_set+=[col]\n",
        "\n",
        "print(test.shape)\n",
        "print(train.shape)\n"
      ],
      "metadata": {
        "colab": {
          "base_uri": "https://localhost:8080/"
        },
        "outputId": "d4a8b473-b8e3-49eb-96b5-e74563e60214",
        "id": "DL1tE9LaKi_3"
      },
      "execution_count": null,
      "outputs": [
        {
          "output_type": "stream",
          "name": "stdout",
          "text": [
            "(310, 2795)\n",
            "(598, 2795)\n"
          ]
        }
      ]
    },
    {
      "cell_type": "code",
      "source": [
        "#84 GB 메모리에서 메모리 오류뜸\n",
        "#열을 쪼개서 해야하나? 근데 그럼 학습이 되나?\n",
        "\n",
        "from sklearn.experimental import enable_iterative_imputer\n",
        "from sklearn.impute import IterativeImputer\n",
        "imputer= IterativeImputer(random_state=0, max_iter=3)\n",
        "train =imputer.fit_transform(train)\n",
        "test = imputer.transform(test)\n",
        "print(train.shape)"
      ],
      "metadata": {
        "id": "38bHJMfGljk4"
      },
      "execution_count": null,
      "outputs": []
    },
    {
      "cell_type": "code",
      "source": [
        "\n",
        "from sklearn.preprocessing import StandardScaler\n",
        "ss=StandardScaler()\n",
        "ss.fit(train)\n",
        "train_scaled=ss.transform(train)\n",
        "test_scaled=ss.transform(test)\n",
        "\n"
      ],
      "metadata": {
        "id": "iD5KYuPV0lg8"
      },
      "execution_count": null,
      "outputs": []
    },
    {
      "cell_type": "code",
      "execution_count": null,
      "metadata": {
        "id": "c6ca77bc-154c-4cb3-9251-3fe45d671416"
      },
      "outputs": [],
      "source": [
        "RF = RandomForestClassifier(random_state=37).fit(train, train_y)\n",
        "print('Done.')"
      ]
    },
    {
      "cell_type": "code",
      "execution_count": null,
      "metadata": {
        "id": "33b68656-3d7d-4221-b508-24d0d7622179"
      },
      "outputs": [],
      "source": [
        "preds = RF.predict(test)\n",
        "print('Done.')"
      ]
    },
    {
      "cell_type": "code",
      "execution_count": null,
      "metadata": {
        "id": "20c5e156-d7c4-400f-b552-0bb86ebfd3e3"
      },
      "outputs": [],
      "source": [
        "submit = pd.read_csv('/content/drive/MyDrive/sample_submission.csv')"
      ]
    },
    {
      "cell_type": "code",
      "execution_count": null,
      "metadata": {
        "id": "5b869ab6-6852-45a1-bc75-39dee40b583f"
      },
      "outputs": [],
      "source": [
        "submit['Y_Class'] = preds"
      ]
    },
    {
      "cell_type": "code",
      "execution_count": null,
      "metadata": {
        "tags": [],
        "id": "026b00cd-5680-4bf2-b7f8-0bea6ae8299e"
      },
      "outputs": [],
      "source": [
        "submit.to_csv('./baseline_submission.csv', index=False)"
      ]
    }
  ]
}