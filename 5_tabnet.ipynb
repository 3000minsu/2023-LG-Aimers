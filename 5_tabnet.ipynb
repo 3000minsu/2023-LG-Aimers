{
  "nbformat": 4,
  "nbformat_minor": 0,
  "metadata": {
    "colab": {
      "provenance": [],
      "machine_shape": "hm",
      "authorship_tag": "ABX9TyMm6A/tJOcONvHLXUmPPZ1n",
      "include_colab_link": true
    },
    "kernelspec": {
      "name": "python3",
      "display_name": "Python 3"
    },
    "language_info": {
      "name": "python"
    },
    "accelerator": "GPU",
    "gpuClass": "premium"
  },
  "cells": [
    {
      "cell_type": "markdown",
      "metadata": {
        "id": "view-in-github",
        "colab_type": "text"
      },
      "source": [
        "<a href=\"https://colab.research.google.com/github/3000minsu/2023-LG-Aimers/blob/main/5_tabnet.ipynb\" target=\"_parent\"><img src=\"https://colab.research.google.com/assets/colab-badge.svg\" alt=\"Open In Colab\"/></a>"
      ]
    },
    {
      "cell_type": "code",
      "source": [
        "pip install pytorch-tabnet"
      ],
      "metadata": {
        "colab": {
          "base_uri": "https://localhost:8080/"
        },
        "id": "99DbXm9ddriU",
        "outputId": "78ffc552-8e34-415c-d656-9e95074feb0e"
      },
      "execution_count": 150,
      "outputs": [
        {
          "output_type": "stream",
          "name": "stdout",
          "text": [
            "Looking in indexes: https://pypi.org/simple, https://us-python.pkg.dev/colab-wheels/public/simple/\n",
            "Requirement already satisfied: pytorch-tabnet in /usr/local/lib/python3.8/dist-packages (4.0)\n",
            "Requirement already satisfied: scipy>1.4 in /usr/local/lib/python3.8/dist-packages (from pytorch-tabnet) (1.7.3)\n",
            "Requirement already satisfied: torch<2.0,>=1.2 in /usr/local/lib/python3.8/dist-packages (from pytorch-tabnet) (1.13.1+cu116)\n",
            "Requirement already satisfied: scikit_learn>0.21 in /usr/local/lib/python3.8/dist-packages (from pytorch-tabnet) (1.0.2)\n",
            "Requirement already satisfied: tqdm<5.0,>=4.36 in /usr/local/lib/python3.8/dist-packages (from pytorch-tabnet) (4.64.1)\n",
            "Requirement already satisfied: numpy<2.0,>=1.17 in /usr/local/lib/python3.8/dist-packages (from pytorch-tabnet) (1.22.4)\n",
            "Requirement already satisfied: threadpoolctl>=2.0.0 in /usr/local/lib/python3.8/dist-packages (from scikit_learn>0.21->pytorch-tabnet) (3.1.0)\n",
            "Requirement already satisfied: joblib>=0.11 in /usr/local/lib/python3.8/dist-packages (from scikit_learn>0.21->pytorch-tabnet) (1.2.0)\n",
            "Requirement already satisfied: typing-extensions in /usr/local/lib/python3.8/dist-packages (from torch<2.0,>=1.2->pytorch-tabnet) (4.5.0)\n"
          ]
        }
      ]
    },
    {
      "cell_type": "code",
      "execution_count": 151,
      "metadata": {
        "id": "at9da-1QkF0o"
      },
      "outputs": [],
      "source": [
        "import numpy as np\n",
        "import pandas as pd\n",
        "import random\n",
        "import os\n",
        "\n",
        "from sklearn.metrics import roc_auc_score\n",
        "from sklearn.preprocessing import LabelEncoder\n",
        "from matplotlib import pyplot as plt\n",
        "\n",
        "import torch.optim as optim\n",
        "from torch.utils.data import Dataset, DataLoader\n",
        "from sklearn.model_selection import train_test_split\n",
        "\n",
        "import torch\n",
        "import torch.nn as nn\n",
        "from pytorch_tabnet.tab_model import TabNetClassifier"
      ]
    },
    {
      "cell_type": "code",
      "source": [
        "def seed_everything(seed):\n",
        "    random.seed(seed)\n",
        "    os.environ['PYTHONHASHSEED'] = str(seed)\n",
        "    np.random.seed(seed)\n",
        "seed_everything(37) # Seed 고정"
      ],
      "metadata": {
        "id": "N7YJgiThYPrL"
      },
      "execution_count": 152,
      "outputs": []
    },
    {
      "cell_type": "code",
      "source": [
        "from google.colab import drive\n",
        "drive.mount('/content/drive')\n",
        "\n",
        "train_df = pd.read_csv('/content/drive/MyDrive/train.csv')\n",
        "test_df = pd.read_csv('/content/drive/MyDrive/test.csv')"
      ],
      "metadata": {
        "colab": {
          "base_uri": "https://localhost:8080/"
        },
        "id": "2uLXfctgYQQH",
        "outputId": "877ec465-12cf-4670-f0bc-af7d34c0f659"
      },
      "execution_count": 153,
      "outputs": [
        {
          "output_type": "stream",
          "name": "stdout",
          "text": [
            "Drive already mounted at /content/drive; to attempt to forcibly remount, call drive.mount(\"/content/drive\", force_remount=True).\n"
          ]
        }
      ]
    },
    {
      "cell_type": "code",
      "source": [
        "train = train_df.drop(columns=['PRODUCT_ID', 'TIMESTAMP', 'Y_Class', 'Y_Quality'])\n",
        "train_y = train_df['Y_Class']\n",
        "\n",
        "test = test_df.drop(columns=['PRODUCT_ID', 'TIMESTAMP'])\n",
        "train = train.fillna(0)\n",
        "test = test.fillna(0)"
      ],
      "metadata": {
        "id": "aKVN3wQxd2s4"
      },
      "execution_count": 154,
      "outputs": []
    },
    {
      "cell_type": "code",
      "source": [
        "\n",
        "if \"Set\" not in train.columns:\n",
        "    train[\"Set\"] = np.random.choice([\"train\", \"valid\"], p =[.8, .2], size=(train.shape[0],))\n",
        "\n",
        "train_indices = train[train.Set==\"train\"].index\n",
        "valid_indices = train[train.Set==\"valid\"].index"
      ],
      "metadata": {
        "id": "ncHMgorPebyj"
      },
      "execution_count": 155,
      "outputs": []
    },
    {
      "cell_type": "code",
      "source": [
        "nunique = train.nunique()\n",
        "types = train.dtypes\n",
        "\n",
        "categorical_columns = []\n",
        "categorical_dims =  {}\n",
        "for col in train.columns:\n",
        "    if ((types[col] == 'object')&(col!='Set')):\n",
        "        print(col, train[col].nunique())\n",
        "        l_enc = LabelEncoder()\n",
        "        train[col] = l_enc.fit_transform(train[col].values)\n",
        "        test[col] = l_enc.transform(test[col].values)\n",
        "        categorical_columns.append(col)\n",
        "        categorical_dims[col] = len(l_enc.classes_)\n",
        "\n",
        "\n",
        "# Categorical Embedding을 위해 Categorical 변수의 차원과 idxs를 담음.\n",
        "unused_feat = ['Set']\n",
        "features = [ col for col in train.columns if col not in unused_feat] \n",
        "cat_idxs = [ i for i, f in enumerate(features) if f in categorical_columns]\n",
        "cat_dims = [ categorical_dims[f] for i, f in enumerate(features) if f in categorical_columns]\n",
        "\n",
        "\n",
        "\n",
        "X_train = train[features].values[train_indices]\n",
        "y_train = train_y.values[train_indices]\n",
        "\n",
        "X_valid = train[features].values[valid_indices]\n",
        "y_valid = train_y.values[valid_indices]\n"
      ],
      "metadata": {
        "colab": {
          "base_uri": "https://localhost:8080/"
        },
        "id": "3r-2HFxCepqg",
        "outputId": "f8b1e1b4-b87d-4baf-c224-54f823a26491"
      },
      "execution_count": 156,
      "outputs": [
        {
          "output_type": "stream",
          "name": "stdout",
          "text": [
            "LINE 6\n",
            "PRODUCT_CODE 3\n"
          ]
        }
      ]
    },
    {
      "cell_type": "code",
      "source": [
        "print(X_train.shape)\n",
        "print(y_train.shape)\n",
        "print(train.shape)\n",
        "print(test.shape)"
      ],
      "metadata": {
        "colab": {
          "base_uri": "https://localhost:8080/"
        },
        "id": "Rehmm5EuuHXC",
        "outputId": "9292cc27-283c-43ee-acd1-43e4605fb724"
      },
      "execution_count": 157,
      "outputs": [
        {
          "output_type": "stream",
          "name": "stdout",
          "text": [
            "(485, 2877)\n",
            "(485,)\n",
            "(598, 2878)\n",
            "(310, 2877)\n"
          ]
        }
      ]
    },
    {
      "cell_type": "code",
      "source": [
        "clf = TabNetClassifier(cat_idxs=cat_idxs,\n",
        "                       cat_dims=cat_dims,\n",
        "                       cat_emb_dim=10,\n",
        "                       optimizer_fn=torch.optim.Adam,\n",
        "                       optimizer_params=dict(lr=1e-2),\n",
        "                       scheduler_params={\"step_size\":50,\n",
        "                                         \"gamma\":0.9},\n",
        "                       scheduler_fn=torch.optim.lr_scheduler.StepLR,\n",
        "                       mask_type='sparsemax' # \"sparsemax\", entmax\n",
        "                      )"
      ],
      "metadata": {
        "colab": {
          "base_uri": "https://localhost:8080/"
        },
        "id": "rvK6uw_8gdcn",
        "outputId": "304ce7fd-0ff9-43e7-e7de-71d78905980d"
      },
      "execution_count": 158,
      "outputs": [
        {
          "output_type": "stream",
          "name": "stderr",
          "text": [
            "/usr/local/lib/python3.8/dist-packages/pytorch_tabnet/abstract_model.py:75: UserWarning: Device used : cuda\n",
            "  warnings.warn(f\"Device used : {self.device}\")\n"
          ]
        }
      ]
    },
    {
      "cell_type": "code",
      "source": [
        "for col in train.columns:\n",
        "    if (train[col].isnull().any()):\n",
        "      print(col)"
      ],
      "metadata": {
        "id": "1VI7QJVFlxJ_"
      },
      "execution_count": 159,
      "outputs": []
    },
    {
      "cell_type": "code",
      "source": [
        "max_epochs = 15\n",
        "\n",
        "clf.fit(\n",
        "    X_train=X_train, y_train=y_train,\n",
        "    eval_set=[(X_train, y_train), (X_valid, y_valid)],\n",
        "    eval_name=['train', 'valid'],\n",
        "    #eval_metric=['rmse'],\n",
        "    max_epochs=max_epochs , patience=20,\n",
        "    batch_size=1024, virtual_batch_size=128,\n",
        "    num_workers=0,\n",
        "    weights=1,\n",
        "    drop_last=False,\n",
        ")"
      ],
      "metadata": {
        "colab": {
          "base_uri": "https://localhost:8080/"
        },
        "id": "-hxeEMbQggHV",
        "outputId": "7e6a2cfb-a6de-4e31-b275-d71055c100fd"
      },
      "execution_count": 160,
      "outputs": [
        {
          "output_type": "stream",
          "name": "stdout",
          "text": [
            "epoch 0  | loss: 1.40059 | train_accuracy: 0.29897 | valid_accuracy: 0.27434 |  0:00:00s\n",
            "epoch 1  | loss: 1.3025  | train_accuracy: 0.56082 | valid_accuracy: 0.59292 |  0:00:00s\n",
            "epoch 2  | loss: 1.23139 | train_accuracy: 0.65979 | valid_accuracy: 0.70796 |  0:00:00s\n",
            "epoch 3  | loss: 1.30452 | train_accuracy: 0.61649 | valid_accuracy: 0.68142 |  0:00:00s\n",
            "epoch 4  | loss: 1.25745 | train_accuracy: 0.61649 | valid_accuracy: 0.62832 |  0:00:00s\n",
            "epoch 5  | loss: 1.25753 | train_accuracy: 0.59794 | valid_accuracy: 0.64602 |  0:00:01s\n",
            "epoch 6  | loss: 1.18954 | train_accuracy: 0.60412 | valid_accuracy: 0.64602 |  0:00:01s\n",
            "epoch 7  | loss: 1.22344 | train_accuracy: 0.60206 | valid_accuracy: 0.65487 |  0:00:01s\n",
            "epoch 8  | loss: 1.2048  | train_accuracy: 0.27216 | valid_accuracy: 0.27434 |  0:00:01s\n",
            "epoch 9  | loss: 1.1597  | train_accuracy: 0.54021 | valid_accuracy: 0.61947 |  0:00:01s\n",
            "epoch 10 | loss: 1.15369 | train_accuracy: 0.56082 | valid_accuracy: 0.56637 |  0:00:02s\n",
            "epoch 11 | loss: 1.22531 | train_accuracy: 0.57113 | valid_accuracy: 0.61062 |  0:00:02s\n",
            "epoch 12 | loss: 1.1429  | train_accuracy: 0.60412 | valid_accuracy: 0.62832 |  0:00:02s\n",
            "epoch 13 | loss: 1.1424  | train_accuracy: 0.61443 | valid_accuracy: 0.68142 |  0:00:02s\n",
            "epoch 14 | loss: 1.07494 | train_accuracy: 0.6     | valid_accuracy: 0.64602 |  0:00:02s\n",
            "Stop training because you reached max_epochs = 15 with best_epoch = 2 and best_valid_accuracy = 0.70796\n"
          ]
        },
        {
          "output_type": "stream",
          "name": "stderr",
          "text": [
            "/usr/local/lib/python3.8/dist-packages/pytorch_tabnet/callbacks.py:172: UserWarning: Best weights from best epoch are automatically used!\n",
            "  warnings.warn(wrn_msg)\n"
          ]
        }
      ]
    },
    {
      "cell_type": "code",
      "source": [
        "preds = clf.predict(test.values)"
      ],
      "metadata": {
        "id": "_uAjb_mzvduq"
      },
      "execution_count": 161,
      "outputs": []
    },
    {
      "cell_type": "code",
      "execution_count": 162,
      "metadata": {
        "id": "20c5e156-d7c4-400f-b552-0bb86ebfd3e3"
      },
      "outputs": [],
      "source": [
        "submit = pd.read_csv('/content/drive/MyDrive/sample_submission.csv')"
      ]
    },
    {
      "cell_type": "code",
      "execution_count": 163,
      "metadata": {
        "id": "5b869ab6-6852-45a1-bc75-39dee40b583f"
      },
      "outputs": [],
      "source": [
        "submit['Y_Class'] = preds"
      ]
    },
    {
      "cell_type": "code",
      "execution_count": 164,
      "metadata": {
        "tags": [],
        "id": "026b00cd-5680-4bf2-b7f8-0bea6ae8299e"
      },
      "outputs": [],
      "source": [
        "submit.to_csv('./baseline_submission.csv', index=False)"
      ]
    }
  ]
}